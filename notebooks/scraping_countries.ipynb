{
  "nbformat": 4,
  "nbformat_minor": 0,
  "metadata": {
    "colab": {
      "provenance": [],
      "authorship_tag": "ABX9TyM7IVHiSxDAG5yvcb8RS0HI",
      "include_colab_link": true
    },
    "kernelspec": {
      "name": "python3",
      "display_name": "Python 3"
    },
    "language_info": {
      "name": "python"
    }
  },
  "cells": [
    {
      "cell_type": "markdown",
      "metadata": {
        "id": "view-in-github",
        "colab_type": "text"
      },
      "source": [
        "<a href=\"https://colab.research.google.com/github/pedroStelzer/project-ml/blob/main/notebooks/scraping_countries.ipynb\" target=\"_parent\"><img src=\"https://colab.research.google.com/assets/colab-badge.svg\" alt=\"Open In Colab\"/></a>"
      ]
    },
    {
      "cell_type": "markdown",
      "source": [
        "## Libs"
      ],
      "metadata": {
        "id": "jMEdaklA5nje"
      }
    },
    {
      "cell_type": "code",
      "source": [
        "import requests\n",
        "import pandas as pd\n",
        "import json\n",
        "import shutil"
      ],
      "metadata": {
        "id": "GNX-6uTC5ll8"
      },
      "execution_count": 14,
      "outputs": []
    },
    {
      "cell_type": "markdown",
      "source": [
        "## Gera API Key"
      ],
      "metadata": {
        "id": "XadBOUqC5qtp"
      }
    },
    {
      "cell_type": "code",
      "execution_count": 2,
      "metadata": {
        "colab": {
          "base_uri": "https://localhost:8080/"
        },
        "id": "WjebUZjf5C9u",
        "outputId": "2d21ebae-0be5-47d5-c7db-f24504dbdbb9"
      },
      "outputs": [
        {
          "output_type": "stream",
          "name": "stdout",
          "text": [
            "API Key: uMlRZUTMb_T67QOeQ8g1UxvD2H72nM5fUFkaPIQcX74\n"
          ]
        }
      ],
      "source": [
        "response = requests.post('https://fbrapi.com/generate_api_key')\n",
        "api_key = response.json()['api_key']\n",
        "print(\"API Key:\", api_key)"
      ]
    },
    {
      "cell_type": "markdown",
      "source": [
        "## Seleciona Endpoind"
      ],
      "metadata": {
        "id": "2KL7ls9_5uIK"
      }
    },
    {
      "cell_type": "code",
      "source": [
        "endpoint = \"countries\"\n",
        "url = f\"https://fbrapi.com/{endpoint}\""
      ],
      "metadata": {
        "id": "jCLk2WFn5zIi"
      },
      "execution_count": 3,
      "outputs": []
    },
    {
      "cell_type": "markdown",
      "source": [
        "## Passa os parâmetros e recebe a resposta"
      ],
      "metadata": {
        "id": "AGpSmHRg54aD"
      }
    },
    {
      "cell_type": "code",
      "source": [
        "params = {\n",
        "\n",
        "}\n",
        "headers = {\"X-API-Key\": api_key}\n",
        "\n",
        "response = requests.get(url, params=params, headers=headers)\n"
      ],
      "metadata": {
        "id": "tdb988kC5hC6"
      },
      "execution_count": 7,
      "outputs": []
    },
    {
      "cell_type": "code",
      "source": [
        "print(response.json()[\"data\"])"
      ],
      "metadata": {
        "colab": {
          "base_uri": "https://localhost:8080/"
        },
        "id": "Yat6sUTG9XPQ",
        "outputId": "dfd7d9b5-d0f8-44f5-a28a-351e09b6da60"
      },
      "execution_count": 10,
      "outputs": [
        {
          "output_type": "stream",
          "name": "stdout",
          "text": [
            "[{'country': 'Afghanistan', 'country_code': 'AFG', 'governing_body': 'AFC', '#_clubs': 0, '#_players': 221, 'national_teams': ['M', 'F']}, {'country': 'Albania', 'country_code': 'ALB', 'governing_body': 'UEFA', '#_clubs': 17, '#_players': 587, 'national_teams': ['M', 'F']}, {'country': 'Algeria', 'country_code': 'ALG', 'governing_body': 'CAF', '#_clubs': 0, '#_players': 556, 'national_teams': ['M', 'F']}, {'country': 'American Samoa', 'country_code': 'ASA', 'governing_body': 'OFC', '#_clubs': 0, '#_players': 55, 'national_teams': ['M']}, {'country': 'Andorra', 'country_code': 'AND', 'governing_body': 'UEFA', '#_clubs': 11, '#_players': 152, 'national_teams': ['M', 'F']}, {'country': 'Angola', 'country_code': 'ANG', 'governing_body': 'CAF', '#_clubs': 0, '#_players': 330, 'national_teams': ['M', 'F']}, {'country': 'Anguilla', 'country_code': 'AIA', 'governing_body': 'CONCACAF', '#_clubs': 0, '#_players': 137, 'national_teams': ['M', 'F']}, {'country': 'Antigua and Barbuda', 'country_code': 'ATG', 'governing_body': 'CONCACAF', '#_clubs': 1, '#_players': 180, 'national_teams': ['M', 'F']}, {'country': 'Argentina', 'country_code': 'ARG', 'governing_body': 'CONMEBOL', '#_clubs': 41, '#_players': 5237, 'national_teams': ['M', 'F']}, {'country': 'Armenia', 'country_code': 'ARM', 'governing_body': 'UEFA', '#_clubs': 16, '#_players': 297, 'national_teams': ['M', 'F']}, {'country': 'Aruba', 'country_code': 'ARU', 'governing_body': 'CONCACAF', '#_clubs': 0, '#_players': 163, 'national_teams': ['M', 'F']}, {'country': 'Australia', 'country_code': 'AUS', 'governing_body': 'AFC', '#_clubs': 24, '#_players': 1645, 'national_teams': ['M', 'F']}, {'country': 'Austria', 'country_code': 'AUT', 'governing_body': 'UEFA', '#_clubs': 43, '#_players': 1980, 'national_teams': ['M', 'F']}, {'country': 'Azerbaijan', 'country_code': 'AZE', 'governing_body': 'UEFA', '#_clubs': 21, '#_players': 306, 'national_teams': ['M', 'F']}, {'country': 'Bahamas', 'country_code': 'BAH', 'governing_body': 'CONCACAF', '#_clubs': 0, '#_players': 126, 'national_teams': ['M']}, {'country': 'Bahrain', 'country_code': 'BHR', 'governing_body': 'AFC', '#_clubs': 0, '#_players': 229, 'national_teams': ['M', 'F']}, {'country': 'Bangladesh', 'country_code': 'BAN', 'governing_body': 'AFC', '#_clubs': 0, '#_players': 188, 'national_teams': ['M', 'F']}, {'country': 'Barbados', 'country_code': 'BRB', 'governing_body': 'CONCACAF', '#_clubs': 0, '#_players': 199, 'national_teams': ['M', 'F']}, {'country': 'Belarus', 'country_code': 'BLR', 'governing_body': 'UEFA', '#_clubs': 18, '#_players': 427, 'national_teams': ['M', 'F']}, {'country': 'Belgium', 'country_code': 'BEL', 'governing_body': 'UEFA', '#_clubs': 69, '#_players': 3176, 'national_teams': ['M', 'F']}, {'country': 'Belize', 'country_code': 'BLZ', 'governing_body': 'CONCACAF', '#_clubs': 0, '#_players': 156, 'national_teams': ['M']}, {'country': 'Benin', 'country_code': 'BEN', 'governing_body': 'CAF', '#_clubs': 0, '#_players': 167, 'national_teams': ['M', 'F']}, {'country': 'Bermuda', 'country_code': 'BER', 'governing_body': 'CONCACAF', '#_clubs': 0, '#_players': 172, 'national_teams': ['M']}, {'country': 'Bhutan', 'country_code': 'BHU', 'governing_body': 'AFC', '#_clubs': 0, '#_players': 117, 'national_teams': ['M', 'F']}, {'country': 'Bolivia', 'country_code': 'BOL', 'governing_body': 'CONMEBOL', '#_clubs': 31, '#_players': 1303, 'national_teams': ['M', 'F']}, {'country': 'Bonaire', 'country_code': 'BOE', 'governing_body': 'CONCACAF', '#_clubs': 0, '#_players': 5, 'national_teams': None}, {'country': 'Bosnia and Herzegovina', 'country_code': 'BIH', 'governing_body': 'UEFA', '#_clubs': 18, '#_players': 1038, 'national_teams': ['M', 'F']}, {'country': 'Botswana', 'country_code': 'BOT', 'governing_body': 'CAF', '#_clubs': 0, '#_players': 213, 'national_teams': ['M', 'F']}, {'country': 'Brazil', 'country_code': 'BRA', 'governing_body': 'CONMEBOL', '#_clubs': 102, '#_players': 9651, 'national_teams': ['M', 'F']}, {'country': 'British Virgin Islands', 'country_code': 'VGB', 'governing_body': 'CONCACAF', '#_clubs': 0, '#_players': 117, 'national_teams': ['M']}, {'country': 'Brunei Darussalam', 'country_code': 'BRU', 'governing_body': 'AFC', '#_clubs': 0, '#_players': 78, 'national_teams': ['M']}, {'country': 'Bulgaria', 'country_code': 'BUL', 'governing_body': 'UEFA', '#_clubs': 48, '#_players': 2010, 'national_teams': ['M', 'F']}, {'country': 'Burkina Faso', 'country_code': 'BFA', 'governing_body': 'CAF', '#_clubs': 0, '#_players': 311, 'national_teams': ['M', 'F']}, {'country': 'Burundi', 'country_code': 'BDI', 'governing_body': 'CAF', '#_clubs': 0, '#_players': 174, 'national_teams': ['M', 'F']}, {'country': 'Cambodia', 'country_code': 'CAM', 'governing_body': 'AFC', '#_clubs': 0, '#_players': 155, 'national_teams': ['M', 'F']}, {'country': 'Cameroon', 'country_code': 'CMR', 'governing_body': 'CAF', '#_clubs': 0, '#_players': 889, 'national_teams': ['M', 'F']}, {'country': 'Canada', 'country_code': 'CAN', 'governing_body': 'CONCACAF', '#_clubs': 21, '#_players': 1039, 'national_teams': ['M', 'F']}, {'country': 'Cape Verde', 'country_code': 'CPV', 'governing_body': 'CAF', '#_clubs': 0, '#_players': 194, 'national_teams': ['M', 'F']}, {'country': 'Cayman Islands', 'country_code': 'CAY', 'governing_body': 'CONCACAF', '#_clubs': 0, '#_players': 145, 'national_teams': ['M', 'F']}, {'country': 'Central African Republic', 'country_code': 'CTA', 'governing_body': 'CAF', '#_clubs': 0, '#_players': 167, 'national_teams': ['M']}, {'country': 'Chad', 'country_code': 'CHA', 'governing_body': 'CAF', '#_clubs': 0, '#_players': 123, 'national_teams': ['M']}, {'country': 'Chile', 'country_code': 'CHI', 'governing_body': 'CONMEBOL', '#_clubs': 28, '#_players': 1733, 'national_teams': ['M', 'F']}, {'country': 'China PR', 'country_code': 'CHN', 'governing_body': 'AFC', '#_clubs': 34, '#_players': 1577, 'national_teams': ['M', 'F']}, {'country': 'Chinese Taipei', 'country_code': 'TPE', 'governing_body': 'AFC', '#_clubs': 0, '#_players': 244, 'national_teams': ['M', 'F']}, {'country': 'Colombia', 'country_code': 'COL', 'governing_body': 'CONMEBOL', '#_clubs': 29, '#_players': 2902, 'national_teams': ['M', 'F']}, {'country': 'Commonwealth of Independent States', 'country_code': 'CIS', 'governing_body': 'FIFA', '#_clubs': 0, '#_players': 19, 'national_teams': None}, {'country': 'Comoros', 'country_code': 'COM', 'governing_body': 'CAF', '#_clubs': 0, '#_players': 146, 'national_teams': ['M']}, {'country': 'Congo', 'country_code': 'CGO', 'governing_body': 'CAF', '#_clubs': 0, '#_players': 279, 'national_teams': ['M', 'F']}, {'country': 'Congo DR', 'country_code': 'COD', 'governing_body': 'CAF', '#_clubs': 0, '#_players': 400, 'national_teams': ['M', 'F']}, {'country': 'Cook Islands', 'country_code': 'COK', 'governing_body': 'OFC', '#_clubs': 0, '#_players': 79, 'national_teams': ['M', 'F']}, {'country': 'Costa Rica', 'country_code': 'CRC', 'governing_body': 'CONCACAF', '#_clubs': 0, '#_players': 442, 'national_teams': ['M', 'F']}, {'country': \"Côte d'Ivoire\", 'country_code': 'CIV', 'governing_body': 'CAF', '#_clubs': 0, '#_players': 837, 'national_teams': ['M', 'F']}, {'country': 'Croatia', 'country_code': 'CRO', 'governing_body': 'UEFA', '#_clubs': 27, '#_players': 2094, 'national_teams': ['M', 'F']}, {'country': 'Cuba', 'country_code': 'CUB', 'governing_body': 'CONCACAF', '#_clubs': 0, '#_players': 259, 'national_teams': ['M', 'F']}, {'country': 'Curaçao', 'country_code': 'CUW', 'governing_body': 'CONCACAF', '#_clubs': 0, '#_players': 198, 'national_teams': ['M', 'F']}, {'country': 'Cyprus', 'country_code': 'CYP', 'governing_body': 'UEFA', '#_clubs': 14, '#_players': 385, 'national_teams': ['M', 'F']}, {'country': 'Czech Republic', 'country_code': 'CZE', 'governing_body': 'UEFA', '#_clubs': 35, '#_players': 1624, 'national_teams': ['M', 'F']}, {'country': 'Czechoslovakia', 'country_code': 'TCH', 'governing_body': 'FIFA', '#_clubs': 0, '#_players': 172, 'national_teams': ['M']}, {'country': 'Denmark', 'country_code': 'DEN', 'governing_body': 'UEFA', '#_clubs': 43, '#_players': 2284, 'national_teams': ['M', 'F']}, {'country': 'Djibouti', 'country_code': 'DJI', 'governing_body': 'CAF', '#_clubs': 0, '#_players': 115, 'national_teams': ['M']}, {'country': 'Dominica', 'country_code': 'DMA', 'governing_body': 'CONCACAF', '#_clubs': 0, '#_players': 134, 'national_teams': ['M']}, {'country': 'Dominican Republic', 'country_code': 'DOM', 'governing_body': 'CONCACAF', '#_clubs': 0, '#_players': 260, 'national_teams': ['M', 'F']}, {'country': 'Ecuador', 'country_code': 'ECU', 'governing_body': 'CONMEBOL', '#_clubs': 27, '#_players': 1674, 'national_teams': ['M', 'F']}, {'country': 'Egypt', 'country_code': 'EGY', 'governing_body': 'CAF', '#_clubs': 1, '#_players': 364, 'national_teams': ['M', 'F']}, {'country': 'El Salvador', 'country_code': 'SLV', 'governing_body': 'CONCACAF', '#_clubs': 0, '#_players': 394, 'national_teams': ['M', 'F']}, {'country': 'England', 'country_code': 'ENG', 'governing_body': 'UEFA', '#_clubs': 1065, '#_players': 11228, 'national_teams': ['M', 'F']}, {'country': 'Equatorial Guinea', 'country_code': 'EQG', 'governing_body': 'CAF', '#_clubs': 0, '#_players': 213, 'national_teams': ['M', 'F']}, {'country': 'Eritrea', 'country_code': 'ERI', 'governing_body': 'CAF', '#_clubs': 0, '#_players': 73, 'national_teams': ['M']}, {'country': 'Estonia', 'country_code': 'EST', 'governing_body': 'UEFA', '#_clubs': 16, '#_players': 280, 'national_teams': ['M', 'F']}, {'country': 'Eswatini', 'country_code': 'SWZ', 'governing_body': 'CAF', '#_clubs': 0, '#_players': 140, 'national_teams': ['M', 'F']}, {'country': 'Ethiopia', 'country_code': 'ETH', 'governing_body': 'CAF', '#_clubs': 0, '#_players': 206, 'national_teams': ['M', 'F']}, {'country': 'Faroe Islands', 'country_code': 'FRO', 'governing_body': 'UEFA', '#_clubs': 15, '#_players': 251, 'national_teams': ['M', 'F']}, {'country': 'Fiji', 'country_code': 'FIJ', 'governing_body': 'OFC', '#_clubs': 0, '#_players': 150, 'national_teams': ['M', 'F']}, {'country': 'Finland', 'country_code': 'FIN', 'governing_body': 'UEFA', '#_clubs': 40, '#_players': 1747, 'national_teams': ['M', 'F']}, {'country': 'France', 'country_code': 'FRA', 'governing_body': 'UEFA', '#_clubs': 756, '#_players': 16598, 'national_teams': ['M', 'F']}, {'country': 'French Guiana', 'country_code': 'GUF', 'governing_body': 'CONCACAF', '#_clubs': 5, '#_players': 235, 'national_teams': None}, {'country': 'Gabon', 'country_code': 'GAB', 'governing_body': 'CAF', '#_clubs': 0, '#_players': 180, 'national_teams': ['M']}, {'country': 'Gambia', 'country_code': 'GAM', 'governing_body': 'CAF', '#_clubs': 0, '#_players': 272, 'national_teams': ['M', 'F']}, {'country': 'Georgia', 'country_code': 'GEO', 'governing_body': 'UEFA', '#_clubs': 24, '#_players': 466, 'national_teams': ['M', 'F']}, {'country': 'Germany', 'country_code': 'GER', 'governing_body': 'UEFA', '#_clubs': 466, '#_players': 18312, 'national_teams': ['M', 'F']}, {'country': 'Germany DR', 'country_code': 'GDR', 'governing_body': 'FIFA', '#_clubs': 0, '#_players': 75, 'national_teams': None}, {'country': 'Ghana', 'country_code': 'GHA', 'governing_body': 'CAF', '#_clubs': 0, '#_players': 1016, 'national_teams': ['M', 'F']}, {'country': 'Gibraltar', 'country_code': 'GIB', 'governing_body': 'UEFA', '#_clubs': 5, '#_players': 129, 'national_teams': ['M', 'F']}, {'country': 'Great Britain', 'country_code': 'GBR', 'governing_body': 'Great Britain', '#_clubs': 1, '#_players': 0, 'national_teams': ['F']}, {'country': 'Greece', 'country_code': 'GRE', 'governing_body': 'UEFA', '#_clubs': 48, '#_players': 1638, 'national_teams': ['M', 'F']}, {'country': 'Grenada', 'country_code': 'GRN', 'governing_body': 'CONCACAF', '#_clubs': 0, '#_players': 207, 'national_teams': ['M']}, {'country': 'Guadeloupe', 'country_code': 'GLP', 'governing_body': 'CONCACAF', '#_clubs': 4, '#_players': 275, 'national_teams': ['M']}, {'country': 'Guam', 'country_code': 'GUM', 'governing_body': 'AFC', '#_clubs': 0, '#_players': 121, 'national_teams': ['M', 'F']}, {'country': 'Guatemala', 'country_code': 'GUA', 'governing_body': 'CONCACAF', '#_clubs': 0, '#_players': 342, 'national_teams': ['M', 'F']}, {'country': 'Guinea', 'country_code': 'GUI', 'governing_body': 'CAF', '#_clubs': 0, '#_players': 381, 'national_teams': ['M']}, {'country': 'Guinea-Bissau', 'country_code': 'GNB', 'governing_body': 'CAF', '#_clubs': 0, '#_players': 210, 'national_teams': ['M', 'F']}, {'country': 'Guyana', 'country_code': 'GUY', 'governing_body': 'CONCACAF', '#_clubs': 0, '#_players': 173, 'national_teams': ['M', 'F']}, {'country': 'Haiti', 'country_code': 'HAI', 'governing_body': 'CONCACAF', '#_clubs': 0, '#_players': 350, 'national_teams': ['M', 'F']}, {'country': 'Honduras', 'country_code': 'HON', 'governing_body': 'CONCACAF', '#_clubs': 0, '#_players': 351, 'national_teams': ['M', 'F']}, {'country': 'Hong Kong', 'country_code': 'HKG', 'governing_body': 'AFC', '#_clubs': 0, '#_players': 224, 'national_teams': ['M', 'F']}, {'country': 'Hungary', 'country_code': 'HUN', 'governing_body': 'UEFA', '#_clubs': 36, '#_players': 2030, 'national_teams': ['M', 'F']}, {'country': 'Iceland', 'country_code': 'ISL', 'governing_body': 'UEFA', '#_clubs': 19, '#_players': 531, 'national_teams': ['M', 'F']}, {'country': 'India', 'country_code': 'IND', 'governing_body': 'AFC', '#_clubs': 42, '#_players': 1465, 'national_teams': ['M', 'F']}, {'country': 'Indonesia', 'country_code': 'IDN', 'governing_body': 'AFC', '#_clubs': 0, '#_players': 404, 'national_teams': ['M', 'F']}, {'country': 'IR Iran', 'country_code': 'IRN', 'governing_body': 'AFC', '#_clubs': 33, '#_players': 1141, 'national_teams': ['M', 'F']}, {'country': 'Iraq', 'country_code': 'IRQ', 'governing_body': 'AFC', '#_clubs': 0, '#_players': 337, 'national_teams': ['M', 'F']}, {'country': 'Israel', 'country_code': 'ISR', 'governing_body': 'UEFA', '#_clubs': 17, '#_players': 659, 'national_teams': ['M', 'F']}, {'country': 'Italy', 'country_code': 'ITA', 'governing_body': 'UEFA', '#_clubs': 183, '#_players': 8247, 'national_teams': ['M', 'F']}, {'country': 'Jamaica', 'country_code': 'JAM', 'governing_body': 'CONCACAF', '#_clubs': 0, '#_players': 536, 'national_teams': ['M', 'F']}, {'country': 'Japan', 'country_code': 'JPN', 'governing_body': 'AFC', '#_clubs': 64, '#_players': 3319, 'national_teams': ['M', 'F']}, {'country': 'Jordan', 'country_code': 'JOR', 'governing_body': 'AFC', '#_clubs': 0, '#_players': 247, 'national_teams': ['M', 'F']}, {'country': 'Kazakhstan', 'country_code': 'KAZ', 'governing_body': 'UEFA', '#_clubs': 18, '#_players': 356, 'national_teams': ['M', 'F']}, {'country': 'Kenya', 'country_code': 'KEN', 'governing_body': 'CAF', '#_clubs': 0, '#_players': 265, 'national_teams': ['M', 'F']}, {'country': 'Korea DPR', 'country_code': 'PRK', 'governing_body': 'AFC', '#_clubs': 0, '#_players': 285, 'national_teams': ['M', 'F']}, {'country': 'Korea Republic', 'country_code': 'KOR', 'governing_body': 'AFC', '#_clubs': 21, '#_players': 1686, 'national_teams': ['M', 'F']}, {'country': 'Kosovo', 'country_code': 'KVX', 'governing_body': 'UEFA', '#_clubs': 10, '#_players': 419, 'national_teams': ['M', 'F']}, {'country': 'Kuwait', 'country_code': 'KUW', 'governing_body': 'AFC', '#_clubs': 0, '#_players': 237, 'national_teams': ['M']}, {'country': 'Kyrgyz Republic', 'country_code': 'KGZ', 'governing_body': 'AFC', '#_clubs': 0, '#_players': 165, 'national_teams': ['M', 'F']}, {'country': 'Laos', 'country_code': 'LAO', 'governing_body': 'AFC', '#_clubs': 0, '#_players': 206, 'national_teams': ['M', 'F']}, {'country': 'Latvia', 'country_code': 'LVA', 'governing_body': 'UEFA', '#_clubs': 21, '#_players': 310, 'national_teams': ['M', 'F']}, {'country': 'Lebanon', 'country_code': 'LIB', 'governing_body': 'AFC', '#_clubs': 0, '#_players': 275, 'national_teams': ['M', 'F']}, {'country': 'Lesotho', 'country_code': 'LES', 'governing_body': 'CAF', '#_clubs': 0, '#_players': 141, 'national_teams': ['M', 'F']}, {'country': 'Liberia', 'country_code': 'LBR', 'governing_body': 'CAF', '#_clubs': 0, '#_players': 240, 'national_teams': ['M', 'F']}, {'country': 'Libya', 'country_code': 'LBY', 'governing_body': 'CAF', '#_clubs': 0, '#_players': 207, 'national_teams': ['M']}, {'country': 'Liechtenstein', 'country_code': 'LIE', 'governing_body': 'UEFA', '#_clubs': 2, '#_players': 153, 'national_teams': ['M', 'F']}, {'country': 'Lithuania', 'country_code': 'LTU', 'governing_body': 'UEFA', '#_clubs': 20, '#_players': 331, 'national_teams': ['M', 'F']}, {'country': 'Luxembourg', 'country_code': 'LUX', 'governing_body': 'UEFA', '#_clubs': 20, '#_players': 295, 'national_teams': ['M', 'F']}, {'country': 'Macau', 'country_code': 'MAC', 'governing_body': 'AFC', '#_clubs': 0, '#_players': 122, 'national_teams': ['M', 'F']}, {'country': 'Madagascar', 'country_code': 'MAD', 'governing_body': 'CAF', '#_clubs': 0, '#_players': 184, 'national_teams': ['M']}, {'country': 'Malawi', 'country_code': 'MWI', 'governing_body': 'CAF', '#_clubs': 0, '#_players': 166, 'national_teams': ['M', 'F']}, {'country': 'Malaysia', 'country_code': 'MAS', 'governing_body': 'AFC', '#_clubs': 0, '#_players': 325, 'national_teams': ['M', 'F']}, {'country': 'Maldives', 'country_code': 'MDV', 'governing_body': 'AFC', '#_clubs': 0, '#_players': 178, 'national_teams': ['M', 'F']}, {'country': 'Mali', 'country_code': 'MLI', 'governing_body': 'CAF', '#_clubs': 0, '#_players': 448, 'national_teams': ['M', 'F']}, {'country': 'Malta', 'country_code': 'MLT', 'governing_body': 'UEFA', '#_clubs': 14, '#_players': 259, 'national_teams': ['M', 'F']}, {'country': 'Martinique', 'country_code': 'MTQ', 'governing_body': 'CONCACAF', '#_clubs': 2, '#_players': 243, 'national_teams': ['M', 'F']}, {'country': 'Mauritania', 'country_code': 'MTN', 'governing_body': 'CAF', '#_clubs': 0, '#_players': 141, 'national_teams': ['M']}, {'country': 'Mauritius', 'country_code': 'MRI', 'governing_body': 'CAF', '#_clubs': 0, '#_players': 112, 'national_teams': ['M', 'F']}, {'country': 'Mexico', 'country_code': 'MEX', 'governing_body': 'CONCACAF', '#_clubs': 29, '#_players': 2522, 'national_teams': ['M', 'F']}, {'country': 'Moldova', 'country_code': 'MDA', 'governing_body': 'UEFA', '#_clubs': 20, '#_players': 363, 'national_teams': ['M', 'F']}, {'country': 'Mongolia', 'country_code': 'MNG', 'governing_body': 'AFC', '#_clubs': 0, '#_players': 139, 'national_teams': ['M', 'F']}, {'country': 'Montenegro', 'country_code': 'MNE', 'governing_body': 'UEFA', '#_clubs': 18, '#_players': 476, 'national_teams': ['M', 'F']}, {'country': 'Montserrat', 'country_code': 'MSR', 'governing_body': 'CONCACAF', '#_clubs': 0, '#_players': 114, 'national_teams': ['M']}, {'country': 'Morocco', 'country_code': 'MAR', 'governing_body': 'CAF', '#_clubs': 1, '#_players': 818, 'national_teams': ['M', 'F']}, {'country': 'Mozambique', 'country_code': 'MOZ', 'governing_body': 'CAF', '#_clubs': 0, '#_players': 164, 'national_teams': ['M', 'F']}, {'country': 'Myanmar', 'country_code': 'MYA', 'governing_body': 'AFC', '#_clubs': 0, '#_players': 232, 'national_teams': ['M', 'F']}, {'country': 'Namibia', 'country_code': 'NAM', 'governing_body': 'CAF', '#_clubs': 0, '#_players': 160, 'national_teams': ['M', 'F']}, {'country': 'Nepal', 'country_code': 'NEP', 'governing_body': 'AFC', '#_clubs': 0, '#_players': 201, 'national_teams': ['M', 'F']}, {'country': 'Netherlands', 'country_code': 'NED', 'governing_body': 'UEFA', '#_clubs': 62, '#_players': 4515, 'national_teams': ['M', 'F']}, {'country': 'New Caledonia', 'country_code': 'NCL', 'governing_body': 'OFC', '#_clubs': 0, '#_players': 182, 'national_teams': ['M', 'F']}, {'country': 'New Zealand', 'country_code': 'NZL', 'governing_body': 'OFC', '#_clubs': 5, '#_players': 394, 'national_teams': ['M', 'F']}, {'country': 'Nicaragua', 'country_code': 'NCA', 'governing_body': 'CONCACAF', '#_clubs': 0, '#_players': 222, 'national_teams': ['M', 'F']}, {'country': 'Niger', 'country_code': 'NIG', 'governing_body': 'CAF', '#_clubs': 0, '#_players': 160, 'national_teams': ['M', 'F']}, {'country': 'Nigeria', 'country_code': 'NGA', 'governing_body': 'CAF', '#_clubs': 0, '#_players': 1329, 'national_teams': ['M', 'F']}, {'country': 'North Macedonia', 'country_code': 'MKD', 'governing_body': 'UEFA', '#_clubs': 25, '#_players': 499, 'national_teams': ['M', 'F']}, {'country': 'Northern Ireland', 'country_code': 'NIR', 'governing_body': 'UEFA', '#_clubs': 16, '#_players': 600, 'national_teams': ['M', 'F']}, {'country': 'Norway', 'country_code': 'NOR', 'governing_body': 'UEFA', '#_clubs': 53, '#_players': 2822, 'national_teams': ['M', 'F']}, {'country': 'Oman', 'country_code': 'OMA', 'governing_body': 'AFC', '#_clubs': 0, '#_players': 196, 'national_teams': ['M']}, {'country': 'Pakistan', 'country_code': 'PAK', 'governing_body': 'AFC', '#_clubs': 0, '#_players': 171, 'national_teams': ['M', 'F']}, {'country': 'Palestine', 'country_code': 'PLE', 'governing_body': 'AFC', '#_clubs': 0, '#_players': 259, 'national_teams': ['M', 'F']}, {'country': 'Panama', 'country_code': 'PAN', 'governing_body': 'CONCACAF', '#_clubs': 0, '#_players': 377, 'national_teams': ['M', 'F']}, {'country': 'Papua New Guinea', 'country_code': 'PNG', 'governing_body': 'OFC', '#_clubs': 0, '#_players': 110, 'national_teams': ['M', 'F']}, {'country': 'Paraguay', 'country_code': 'PAR', 'governing_body': 'CONMEBOL', '#_clubs': 27, '#_players': 1714, 'national_teams': ['M', 'F']}, {'country': 'Peru', 'country_code': 'PER', 'governing_body': 'CONMEBOL', '#_clubs': 35, '#_players': 1612, 'national_teams': ['M', 'F']}, {'country': 'Philippines', 'country_code': 'PHI', 'governing_body': 'AFC', '#_clubs': 0, '#_players': 276, 'national_teams': ['M', 'F']}, {'country': 'Poland', 'country_code': 'POL', 'governing_body': 'UEFA', '#_clubs': 49, '#_players': 2746, 'national_teams': ['M', 'F']}, {'country': 'Portugal', 'country_code': 'POR', 'governing_body': 'UEFA', '#_clubs': 47, '#_players': 2141, 'national_teams': ['M', 'F']}, {'country': 'Puerto Rico', 'country_code': 'PUR', 'governing_body': 'CONCACAF', '#_clubs': 2, '#_players': 210, 'national_teams': ['M', 'F']}, {'country': 'Qatar', 'country_code': 'QAT', 'governing_body': 'AFC', '#_clubs': 2, '#_players': 248, 'national_teams': ['M']}, {'country': 'Republic of Ireland', 'country_code': 'IRL', 'governing_body': 'UEFA', '#_clubs': 18, '#_players': 1147, 'national_teams': ['M', 'F']}, {'country': 'Réunion', 'country_code': 'REU', 'governing_body': 'CAF', '#_clubs': 4, '#_players': 151, 'national_teams': None}, {'country': 'Romania', 'country_code': 'ROU', 'governing_body': 'UEFA', '#_clubs': 56, '#_players': 2398, 'national_teams': ['M', 'F']}, {'country': 'Russia', 'country_code': 'RUS', 'governing_body': 'UEFA', '#_clubs': 53, '#_players': 2435, 'national_teams': ['M', 'F']}, {'country': 'Rwanda', 'country_code': 'RWA', 'governing_body': 'CAF', '#_clubs': 0, '#_players': 184, 'national_teams': ['M']}, {'country': 'Samoa', 'country_code': 'SAM', 'governing_body': 'OFC', '#_clubs': 0, '#_players': 117, 'national_teams': ['M', 'F']}, {'country': 'San Marino', 'country_code': 'SMR', 'governing_body': 'UEFA', '#_clubs': 13, '#_players': 150, 'national_teams': ['M']}, {'country': 'São Tomé and Príncipe', 'country_code': 'STP', 'governing_body': 'CAF', '#_clubs': 0, '#_players': 116, 'national_teams': ['M']}, {'country': 'Saudi Arabia', 'country_code': 'KSA', 'governing_body': 'AFC', '#_clubs': 30, '#_players': 1384, 'national_teams': ['M', 'F']}, {'country': 'Scotland', 'country_code': 'SCO', 'governing_body': 'UEFA', '#_clubs': 42, '#_players': 2620, 'national_teams': ['M', 'F']}, {'country': 'Senegal', 'country_code': 'SEN', 'governing_body': 'CAF', '#_clubs': 0, '#_players': 971, 'national_teams': ['M', 'F']}, {'country': 'Serbia', 'country_code': 'SRB', 'governing_body': 'UEFA', '#_clubs': 47, '#_players': 3004, 'national_teams': ['M', 'F']}, {'country': 'Serbia and Montenegro', 'country_code': 'SCG', 'governing_body': 'FIFA', '#_clubs': 0, '#_players': 2, 'national_teams': None}, {'country': 'Seychelles', 'country_code': 'SEY', 'governing_body': 'CAF', '#_clubs': 0, '#_players': 174, 'national_teams': ['M', 'F']}, {'country': 'Sierra Leone', 'country_code': 'SLE', 'governing_body': 'CAF', '#_clubs': 0, '#_players': 222, 'national_teams': ['M', 'F']}, {'country': 'Singapore', 'country_code': 'SIN', 'governing_body': 'AFC', '#_clubs': 0, '#_players': 223, 'national_teams': ['M', 'F']}, {'country': 'Sint Maarten', 'country_code': 'SMA', 'governing_body': 'CONCACAF', '#_clubs': 0, '#_players': 5, 'national_teams': None}, {'country': 'Slovakia', 'country_code': 'SVK', 'governing_body': 'UEFA', '#_clubs': 21, '#_players': 865, 'national_teams': ['M', 'F']}, {'country': 'Slovenia', 'country_code': 'SVN', 'governing_body': 'UEFA', '#_clubs': 16, '#_players': 611, 'national_teams': ['M', 'F']}, {'country': 'Solomon Islands', 'country_code': 'SOL', 'governing_body': 'OFC', '#_clubs': 0, '#_players': 111, 'national_teams': ['M', 'F']}, {'country': 'Somalia', 'country_code': 'SOM', 'governing_body': 'CAF', '#_clubs': 0, '#_players': 116, 'national_teams': ['M']}, {'country': 'South Africa', 'country_code': 'RSA', 'governing_body': 'CAF', '#_clubs': 36, '#_players': 1535, 'national_teams': ['M', 'F']}, {'country': 'South Sudan', 'country_code': 'SSD', 'governing_body': 'CAF', '#_clubs': 0, '#_players': 194, 'national_teams': ['M', 'F']}, {'country': 'Soviet Union', 'country_code': 'URS', 'governing_body': 'FIFA', '#_clubs': 0, '#_players': 109, 'national_teams': ['M']}, {'country': 'Spain', 'country_code': 'ESP', 'governing_body': 'UEFA', '#_clubs': 372, '#_players': 10259, 'national_teams': ['M', 'F']}, {'country': 'Sri Lanka', 'country_code': 'SRI', 'governing_body': 'AFC', '#_clubs': 0, '#_players': 143, 'national_teams': ['M', 'F']}, {'country': 'St. Kitts and Nevis', 'country_code': 'SKN', 'governing_body': 'CONCACAF', '#_clubs': 0, '#_players': 210, 'national_teams': ['M', 'F']}, {'country': 'St. Lucia', 'country_code': 'LCA', 'governing_body': 'CONCACAF', '#_clubs': 0, '#_players': 149, 'national_teams': ['M', 'F']}, {'country': 'St. Vincent and the Grenadines', 'country_code': 'VIN', 'governing_body': 'CONCACAF', '#_clubs': 0, '#_players': 187, 'national_teams': ['M']}, {'country': 'Sudan', 'country_code': 'SDN', 'governing_body': 'CAF', '#_clubs': 0, '#_players': 143, 'national_teams': ['M', 'F']}, {'country': 'Suriname', 'country_code': 'SUR', 'governing_body': 'CONCACAF', '#_clubs': 0, '#_players': 214, 'national_teams': ['M', 'F']}, {'country': 'Sweden', 'country_code': 'SWE', 'governing_body': 'UEFA', '#_clubs': 81, '#_players': 4162, 'national_teams': ['M', 'F']}, {'country': 'Switzerland', 'country_code': 'SUI', 'governing_body': 'UEFA', '#_clubs': 34, '#_players': 1822, 'national_teams': ['M', 'F']}, {'country': 'Syria', 'country_code': 'SYR', 'governing_body': 'AFC', '#_clubs': 0, '#_players': 300, 'national_teams': ['M', 'F']}, {'country': 'Tahiti', 'country_code': 'TAH', 'governing_body': 'OFC', '#_clubs': 0, '#_players': 165, 'national_teams': ['M', 'F']}, {'country': 'Tajikistan', 'country_code': 'TJK', 'governing_body': 'AFC', '#_clubs': 0, '#_players': 215, 'national_teams': ['M', 'F']}, {'country': 'Tanzania', 'country_code': 'TAN', 'governing_body': 'CAF', '#_clubs': 0, '#_players': 233, 'national_teams': ['M', 'F']}, {'country': 'Thailand', 'country_code': 'THA', 'governing_body': 'AFC', '#_clubs': 0, '#_players': 337, 'national_teams': ['M', 'F']}, {'country': 'Timor-Leste', 'country_code': 'TLS', 'governing_body': 'AFC', '#_clubs': 0, '#_players': 133, 'national_teams': ['M', 'F']}, {'country': 'Togo', 'country_code': 'TOG', 'governing_body': 'CAF', '#_clubs': 0, '#_players': 267, 'national_teams': ['M', 'F']}, {'country': 'Tonga', 'country_code': 'TGA', 'governing_body': 'OFC', '#_clubs': 0, '#_players': 96, 'national_teams': ['M', 'F']}, {'country': 'Trinidad and Tobago', 'country_code': 'TRI', 'governing_body': 'CONCACAF', '#_clubs': 0, '#_players': 352, 'national_teams': ['M', 'F']}, {'country': 'Tunisia', 'country_code': 'TUN', 'governing_body': 'CAF', '#_clubs': 1, '#_players': 448, 'national_teams': ['M', 'F']}, {'country': 'Türkiye', 'country_code': 'TUR', 'governing_body': 'UEFA', '#_clubs': 56, '#_players': 2092, 'national_teams': ['M', 'F']}, {'country': 'Turkmenistan', 'country_code': 'TKM', 'governing_body': 'AFC', '#_clubs': 0, '#_players': 147, 'national_teams': ['M', 'F']}, {'country': 'Turks and Caicos Islands', 'country_code': 'TCA', 'governing_body': 'CONCACAF', '#_clubs': 0, '#_players': 100, 'national_teams': ['M']}, {'country': 'Uganda', 'country_code': 'UGA', 'governing_body': 'CAF', '#_clubs': 0, '#_players': 240, 'national_teams': ['M', 'F']}, {'country': 'Ukraine', 'country_code': 'UKR', 'governing_body': 'UEFA', '#_clubs': 48, '#_players': 2399, 'national_teams': ['M', 'F']}, {'country': 'United Arab Emirates', 'country_code': 'UAE', 'governing_body': 'AFC', '#_clubs': 2, '#_players': 339, 'national_teams': ['M', 'F']}, {'country': 'United States', 'country_code': 'USA', 'governing_body': 'CONCACAF', '#_clubs': 289, '#_players': 7119, 'national_teams': ['M', 'F']}, {'country': 'Uruguay', 'country_code': 'URU', 'governing_body': 'CONMEBOL', '#_clubs': 29, '#_players': 2363, 'national_teams': ['M']}, {'country': 'US Virgin Islands', 'country_code': 'VIR', 'governing_body': 'CONCACAF', '#_clubs': 0, '#_players': 124, 'national_teams': ['M', 'F']}, {'country': 'Uzbekistan', 'country_code': 'UZB', 'governing_body': 'AFC', '#_clubs': 0, '#_players': 315, 'national_teams': ['M', 'F']}, {'country': 'Vanuatu', 'country_code': 'VAN', 'governing_body': 'OFC', '#_clubs': 0, '#_players': 117, 'national_teams': ['M', 'F']}, {'country': 'Venezuela', 'country_code': 'VEN', 'governing_body': 'CONMEBOL', '#_clubs': 32, '#_players': 1984, 'national_teams': ['M', 'F']}, {'country': 'Vietnam', 'country_code': 'VIE', 'governing_body': 'AFC', '#_clubs': 0, '#_players': 295, 'national_teams': ['M', 'F']}, {'country': 'Wales', 'country_code': 'WAL', 'governing_body': 'UEFA', '#_clubs': 23, '#_players': 856, 'national_teams': ['M', 'F']}, {'country': 'Yemen', 'country_code': 'YEM', 'governing_body': 'AFC', '#_clubs': 0, '#_players': 183, 'national_teams': ['M']}, {'country': 'Yugoslavia', 'country_code': 'YUG', 'governing_body': 'FIFA', '#_clubs': 0, '#_players': 182, 'national_teams': ['M']}, {'country': 'Zambia', 'country_code': 'ZAM', 'governing_body': 'CAF', '#_clubs': 0, '#_players': 302, 'national_teams': ['M', 'F']}, {'country': 'Zanzibar', 'country_code': 'ZAN', 'governing_body': 'CAF', '#_clubs': 0, '#_players': 2, 'national_teams': None}, {'country': 'Zimbabwe', 'country_code': 'ZIM', 'governing_body': 'CAF', '#_clubs': 0, '#_players': 273, 'national_teams': ['M', 'F']}]\n"
          ]
        }
      ]
    },
    {
      "cell_type": "markdown",
      "source": [
        "## Salva o arquivo JSON"
      ],
      "metadata": {
        "id": "Ir0i8oU55-8h"
      }
    },
    {
      "cell_type": "code",
      "source": [
        "with open(\"countries.json\", \"w\", encoding=\"utf-8\") as f:\n",
        "    json.dump(response.json(), f, ensure_ascii=False, indent=4)"
      ],
      "metadata": {
        "id": "hfKXfLCP5eNK"
      },
      "execution_count": 13,
      "outputs": []
    },
    {
      "cell_type": "markdown",
      "source": [
        "## Move o arquivo bruto do Google Colab para o repositório"
      ],
      "metadata": {
        "id": "EXw5dHeG_P1o"
      }
    },
    {
      "cell_type": "code",
      "source": [
        "shutil.move(\"countries.json\", \"project-ml/data/raw/countries/countries.json\")"
      ],
      "metadata": {
        "colab": {
          "base_uri": "https://localhost:8080/",
          "height": 35
        },
        "id": "0SnFFSsK-wbN",
        "outputId": "6258fb58-1410-4902-ce57-1e90f5b4e403"
      },
      "execution_count": 15,
      "outputs": [
        {
          "output_type": "execute_result",
          "data": {
            "text/plain": [
              "'project-ml/data/raw/countries/countries.json'"
            ],
            "application/vnd.google.colaboratory.intrinsic+json": {
              "type": "string"
            }
          },
          "metadata": {},
          "execution_count": 15
        }
      ]
    },
    {
      "cell_type": "markdown",
      "source": [
        "## Extrai o arquivo JSON, separa as informações e converte para dados tabulados"
      ],
      "metadata": {
        "id": "a5V5_wOP6Hdb"
      }
    },
    {
      "cell_type": "code",
      "source": [
        "df = pd.json_normalize(response.json()[\"data\"], sep=\"_\")\n",
        "df"
      ],
      "metadata": {
        "colab": {
          "base_uri": "https://localhost:8080/",
          "height": 424
        },
        "id": "zULJavOp99zO",
        "outputId": "64828275-f2cb-4858-fb37-fd6af5b4c317"
      },
      "execution_count": 22,
      "outputs": [
        {
          "output_type": "execute_result",
          "data": {
            "text/plain": [
              "            country country_code governing_body  #_clubs  #_players  \\\n",
              "0       Afghanistan          AFG            AFC        0        221   \n",
              "1           Albania          ALB           UEFA       17        587   \n",
              "2           Algeria          ALG            CAF        0        556   \n",
              "3    American Samoa          ASA            OFC        0         55   \n",
              "4           Andorra          AND           UEFA       11        152   \n",
              "..              ...          ...            ...      ...        ...   \n",
              "220           Yemen          YEM            AFC        0        183   \n",
              "221      Yugoslavia          YUG           FIFA        0        182   \n",
              "222          Zambia          ZAM            CAF        0        302   \n",
              "223        Zanzibar          ZAN            CAF        0          2   \n",
              "224        Zimbabwe          ZIM            CAF        0        273   \n",
              "\n",
              "    national_teams  \n",
              "0           [M, F]  \n",
              "1           [M, F]  \n",
              "2           [M, F]  \n",
              "3              [M]  \n",
              "4           [M, F]  \n",
              "..             ...  \n",
              "220            [M]  \n",
              "221            [M]  \n",
              "222         [M, F]  \n",
              "223           None  \n",
              "224         [M, F]  \n",
              "\n",
              "[225 rows x 6 columns]"
            ],
            "text/html": [
              "\n",
              "  <div id=\"df-01411a40-aac3-440c-badd-a27bc91d9188\" class=\"colab-df-container\">\n",
              "    <div>\n",
              "<style scoped>\n",
              "    .dataframe tbody tr th:only-of-type {\n",
              "        vertical-align: middle;\n",
              "    }\n",
              "\n",
              "    .dataframe tbody tr th {\n",
              "        vertical-align: top;\n",
              "    }\n",
              "\n",
              "    .dataframe thead th {\n",
              "        text-align: right;\n",
              "    }\n",
              "</style>\n",
              "<table border=\"1\" class=\"dataframe\">\n",
              "  <thead>\n",
              "    <tr style=\"text-align: right;\">\n",
              "      <th></th>\n",
              "      <th>country</th>\n",
              "      <th>country_code</th>\n",
              "      <th>governing_body</th>\n",
              "      <th>#_clubs</th>\n",
              "      <th>#_players</th>\n",
              "      <th>national_teams</th>\n",
              "    </tr>\n",
              "  </thead>\n",
              "  <tbody>\n",
              "    <tr>\n",
              "      <th>0</th>\n",
              "      <td>Afghanistan</td>\n",
              "      <td>AFG</td>\n",
              "      <td>AFC</td>\n",
              "      <td>0</td>\n",
              "      <td>221</td>\n",
              "      <td>[M, F]</td>\n",
              "    </tr>\n",
              "    <tr>\n",
              "      <th>1</th>\n",
              "      <td>Albania</td>\n",
              "      <td>ALB</td>\n",
              "      <td>UEFA</td>\n",
              "      <td>17</td>\n",
              "      <td>587</td>\n",
              "      <td>[M, F]</td>\n",
              "    </tr>\n",
              "    <tr>\n",
              "      <th>2</th>\n",
              "      <td>Algeria</td>\n",
              "      <td>ALG</td>\n",
              "      <td>CAF</td>\n",
              "      <td>0</td>\n",
              "      <td>556</td>\n",
              "      <td>[M, F]</td>\n",
              "    </tr>\n",
              "    <tr>\n",
              "      <th>3</th>\n",
              "      <td>American Samoa</td>\n",
              "      <td>ASA</td>\n",
              "      <td>OFC</td>\n",
              "      <td>0</td>\n",
              "      <td>55</td>\n",
              "      <td>[M]</td>\n",
              "    </tr>\n",
              "    <tr>\n",
              "      <th>4</th>\n",
              "      <td>Andorra</td>\n",
              "      <td>AND</td>\n",
              "      <td>UEFA</td>\n",
              "      <td>11</td>\n",
              "      <td>152</td>\n",
              "      <td>[M, F]</td>\n",
              "    </tr>\n",
              "    <tr>\n",
              "      <th>...</th>\n",
              "      <td>...</td>\n",
              "      <td>...</td>\n",
              "      <td>...</td>\n",
              "      <td>...</td>\n",
              "      <td>...</td>\n",
              "      <td>...</td>\n",
              "    </tr>\n",
              "    <tr>\n",
              "      <th>220</th>\n",
              "      <td>Yemen</td>\n",
              "      <td>YEM</td>\n",
              "      <td>AFC</td>\n",
              "      <td>0</td>\n",
              "      <td>183</td>\n",
              "      <td>[M]</td>\n",
              "    </tr>\n",
              "    <tr>\n",
              "      <th>221</th>\n",
              "      <td>Yugoslavia</td>\n",
              "      <td>YUG</td>\n",
              "      <td>FIFA</td>\n",
              "      <td>0</td>\n",
              "      <td>182</td>\n",
              "      <td>[M]</td>\n",
              "    </tr>\n",
              "    <tr>\n",
              "      <th>222</th>\n",
              "      <td>Zambia</td>\n",
              "      <td>ZAM</td>\n",
              "      <td>CAF</td>\n",
              "      <td>0</td>\n",
              "      <td>302</td>\n",
              "      <td>[M, F]</td>\n",
              "    </tr>\n",
              "    <tr>\n",
              "      <th>223</th>\n",
              "      <td>Zanzibar</td>\n",
              "      <td>ZAN</td>\n",
              "      <td>CAF</td>\n",
              "      <td>0</td>\n",
              "      <td>2</td>\n",
              "      <td>None</td>\n",
              "    </tr>\n",
              "    <tr>\n",
              "      <th>224</th>\n",
              "      <td>Zimbabwe</td>\n",
              "      <td>ZIM</td>\n",
              "      <td>CAF</td>\n",
              "      <td>0</td>\n",
              "      <td>273</td>\n",
              "      <td>[M, F]</td>\n",
              "    </tr>\n",
              "  </tbody>\n",
              "</table>\n",
              "<p>225 rows × 6 columns</p>\n",
              "</div>\n",
              "    <div class=\"colab-df-buttons\">\n",
              "\n",
              "  <div class=\"colab-df-container\">\n",
              "    <button class=\"colab-df-convert\" onclick=\"convertToInteractive('df-01411a40-aac3-440c-badd-a27bc91d9188')\"\n",
              "            title=\"Convert this dataframe to an interactive table.\"\n",
              "            style=\"display:none;\">\n",
              "\n",
              "  <svg xmlns=\"http://www.w3.org/2000/svg\" height=\"24px\" viewBox=\"0 -960 960 960\">\n",
              "    <path d=\"M120-120v-720h720v720H120Zm60-500h600v-160H180v160Zm220 220h160v-160H400v160Zm0 220h160v-160H400v160ZM180-400h160v-160H180v160Zm440 0h160v-160H620v160ZM180-180h160v-160H180v160Zm440 0h160v-160H620v160Z\"/>\n",
              "  </svg>\n",
              "    </button>\n",
              "\n",
              "  <style>\n",
              "    .colab-df-container {\n",
              "      display:flex;\n",
              "      gap: 12px;\n",
              "    }\n",
              "\n",
              "    .colab-df-convert {\n",
              "      background-color: #E8F0FE;\n",
              "      border: none;\n",
              "      border-radius: 50%;\n",
              "      cursor: pointer;\n",
              "      display: none;\n",
              "      fill: #1967D2;\n",
              "      height: 32px;\n",
              "      padding: 0 0 0 0;\n",
              "      width: 32px;\n",
              "    }\n",
              "\n",
              "    .colab-df-convert:hover {\n",
              "      background-color: #E2EBFA;\n",
              "      box-shadow: 0px 1px 2px rgba(60, 64, 67, 0.3), 0px 1px 3px 1px rgba(60, 64, 67, 0.15);\n",
              "      fill: #174EA6;\n",
              "    }\n",
              "\n",
              "    .colab-df-buttons div {\n",
              "      margin-bottom: 4px;\n",
              "    }\n",
              "\n",
              "    [theme=dark] .colab-df-convert {\n",
              "      background-color: #3B4455;\n",
              "      fill: #D2E3FC;\n",
              "    }\n",
              "\n",
              "    [theme=dark] .colab-df-convert:hover {\n",
              "      background-color: #434B5C;\n",
              "      box-shadow: 0px 1px 3px 1px rgba(0, 0, 0, 0.15);\n",
              "      filter: drop-shadow(0px 1px 2px rgba(0, 0, 0, 0.3));\n",
              "      fill: #FFFFFF;\n",
              "    }\n",
              "  </style>\n",
              "\n",
              "    <script>\n",
              "      const buttonEl =\n",
              "        document.querySelector('#df-01411a40-aac3-440c-badd-a27bc91d9188 button.colab-df-convert');\n",
              "      buttonEl.style.display =\n",
              "        google.colab.kernel.accessAllowed ? 'block' : 'none';\n",
              "\n",
              "      async function convertToInteractive(key) {\n",
              "        const element = document.querySelector('#df-01411a40-aac3-440c-badd-a27bc91d9188');\n",
              "        const dataTable =\n",
              "          await google.colab.kernel.invokeFunction('convertToInteractive',\n",
              "                                                    [key], {});\n",
              "        if (!dataTable) return;\n",
              "\n",
              "        const docLinkHtml = 'Like what you see? Visit the ' +\n",
              "          '<a target=\"_blank\" href=https://colab.research.google.com/notebooks/data_table.ipynb>data table notebook</a>'\n",
              "          + ' to learn more about interactive tables.';\n",
              "        element.innerHTML = '';\n",
              "        dataTable['output_type'] = 'display_data';\n",
              "        await google.colab.output.renderOutput(dataTable, element);\n",
              "        const docLink = document.createElement('div');\n",
              "        docLink.innerHTML = docLinkHtml;\n",
              "        element.appendChild(docLink);\n",
              "      }\n",
              "    </script>\n",
              "  </div>\n",
              "\n",
              "\n",
              "    <div id=\"df-17e19517-3db4-49ff-8cca-c016cb8c0a36\">\n",
              "      <button class=\"colab-df-quickchart\" onclick=\"quickchart('df-17e19517-3db4-49ff-8cca-c016cb8c0a36')\"\n",
              "                title=\"Suggest charts\"\n",
              "                style=\"display:none;\">\n",
              "\n",
              "<svg xmlns=\"http://www.w3.org/2000/svg\" height=\"24px\"viewBox=\"0 0 24 24\"\n",
              "     width=\"24px\">\n",
              "    <g>\n",
              "        <path d=\"M19 3H5c-1.1 0-2 .9-2 2v14c0 1.1.9 2 2 2h14c1.1 0 2-.9 2-2V5c0-1.1-.9-2-2-2zM9 17H7v-7h2v7zm4 0h-2V7h2v10zm4 0h-2v-4h2v4z\"/>\n",
              "    </g>\n",
              "</svg>\n",
              "      </button>\n",
              "\n",
              "<style>\n",
              "  .colab-df-quickchart {\n",
              "      --bg-color: #E8F0FE;\n",
              "      --fill-color: #1967D2;\n",
              "      --hover-bg-color: #E2EBFA;\n",
              "      --hover-fill-color: #174EA6;\n",
              "      --disabled-fill-color: #AAA;\n",
              "      --disabled-bg-color: #DDD;\n",
              "  }\n",
              "\n",
              "  [theme=dark] .colab-df-quickchart {\n",
              "      --bg-color: #3B4455;\n",
              "      --fill-color: #D2E3FC;\n",
              "      --hover-bg-color: #434B5C;\n",
              "      --hover-fill-color: #FFFFFF;\n",
              "      --disabled-bg-color: #3B4455;\n",
              "      --disabled-fill-color: #666;\n",
              "  }\n",
              "\n",
              "  .colab-df-quickchart {\n",
              "    background-color: var(--bg-color);\n",
              "    border: none;\n",
              "    border-radius: 50%;\n",
              "    cursor: pointer;\n",
              "    display: none;\n",
              "    fill: var(--fill-color);\n",
              "    height: 32px;\n",
              "    padding: 0;\n",
              "    width: 32px;\n",
              "  }\n",
              "\n",
              "  .colab-df-quickchart:hover {\n",
              "    background-color: var(--hover-bg-color);\n",
              "    box-shadow: 0 1px 2px rgba(60, 64, 67, 0.3), 0 1px 3px 1px rgba(60, 64, 67, 0.15);\n",
              "    fill: var(--button-hover-fill-color);\n",
              "  }\n",
              "\n",
              "  .colab-df-quickchart-complete:disabled,\n",
              "  .colab-df-quickchart-complete:disabled:hover {\n",
              "    background-color: var(--disabled-bg-color);\n",
              "    fill: var(--disabled-fill-color);\n",
              "    box-shadow: none;\n",
              "  }\n",
              "\n",
              "  .colab-df-spinner {\n",
              "    border: 2px solid var(--fill-color);\n",
              "    border-color: transparent;\n",
              "    border-bottom-color: var(--fill-color);\n",
              "    animation:\n",
              "      spin 1s steps(1) infinite;\n",
              "  }\n",
              "\n",
              "  @keyframes spin {\n",
              "    0% {\n",
              "      border-color: transparent;\n",
              "      border-bottom-color: var(--fill-color);\n",
              "      border-left-color: var(--fill-color);\n",
              "    }\n",
              "    20% {\n",
              "      border-color: transparent;\n",
              "      border-left-color: var(--fill-color);\n",
              "      border-top-color: var(--fill-color);\n",
              "    }\n",
              "    30% {\n",
              "      border-color: transparent;\n",
              "      border-left-color: var(--fill-color);\n",
              "      border-top-color: var(--fill-color);\n",
              "      border-right-color: var(--fill-color);\n",
              "    }\n",
              "    40% {\n",
              "      border-color: transparent;\n",
              "      border-right-color: var(--fill-color);\n",
              "      border-top-color: var(--fill-color);\n",
              "    }\n",
              "    60% {\n",
              "      border-color: transparent;\n",
              "      border-right-color: var(--fill-color);\n",
              "    }\n",
              "    80% {\n",
              "      border-color: transparent;\n",
              "      border-right-color: var(--fill-color);\n",
              "      border-bottom-color: var(--fill-color);\n",
              "    }\n",
              "    90% {\n",
              "      border-color: transparent;\n",
              "      border-bottom-color: var(--fill-color);\n",
              "    }\n",
              "  }\n",
              "</style>\n",
              "\n",
              "      <script>\n",
              "        async function quickchart(key) {\n",
              "          const quickchartButtonEl =\n",
              "            document.querySelector('#' + key + ' button');\n",
              "          quickchartButtonEl.disabled = true;  // To prevent multiple clicks.\n",
              "          quickchartButtonEl.classList.add('colab-df-spinner');\n",
              "          try {\n",
              "            const charts = await google.colab.kernel.invokeFunction(\n",
              "                'suggestCharts', [key], {});\n",
              "          } catch (error) {\n",
              "            console.error('Error during call to suggestCharts:', error);\n",
              "          }\n",
              "          quickchartButtonEl.classList.remove('colab-df-spinner');\n",
              "          quickchartButtonEl.classList.add('colab-df-quickchart-complete');\n",
              "        }\n",
              "        (() => {\n",
              "          let quickchartButtonEl =\n",
              "            document.querySelector('#df-17e19517-3db4-49ff-8cca-c016cb8c0a36 button');\n",
              "          quickchartButtonEl.style.display =\n",
              "            google.colab.kernel.accessAllowed ? 'block' : 'none';\n",
              "        })();\n",
              "      </script>\n",
              "    </div>\n",
              "\n",
              "  <div id=\"id_d7e59a0c-cb79-4fd3-8379-a3934b08768d\">\n",
              "    <style>\n",
              "      .colab-df-generate {\n",
              "        background-color: #E8F0FE;\n",
              "        border: none;\n",
              "        border-radius: 50%;\n",
              "        cursor: pointer;\n",
              "        display: none;\n",
              "        fill: #1967D2;\n",
              "        height: 32px;\n",
              "        padding: 0 0 0 0;\n",
              "        width: 32px;\n",
              "      }\n",
              "\n",
              "      .colab-df-generate:hover {\n",
              "        background-color: #E2EBFA;\n",
              "        box-shadow: 0px 1px 2px rgba(60, 64, 67, 0.3), 0px 1px 3px 1px rgba(60, 64, 67, 0.15);\n",
              "        fill: #174EA6;\n",
              "      }\n",
              "\n",
              "      [theme=dark] .colab-df-generate {\n",
              "        background-color: #3B4455;\n",
              "        fill: #D2E3FC;\n",
              "      }\n",
              "\n",
              "      [theme=dark] .colab-df-generate:hover {\n",
              "        background-color: #434B5C;\n",
              "        box-shadow: 0px 1px 3px 1px rgba(0, 0, 0, 0.15);\n",
              "        filter: drop-shadow(0px 1px 2px rgba(0, 0, 0, 0.3));\n",
              "        fill: #FFFFFF;\n",
              "      }\n",
              "    </style>\n",
              "    <button class=\"colab-df-generate\" onclick=\"generateWithVariable('df')\"\n",
              "            title=\"Generate code using this dataframe.\"\n",
              "            style=\"display:none;\">\n",
              "\n",
              "  <svg xmlns=\"http://www.w3.org/2000/svg\" height=\"24px\"viewBox=\"0 0 24 24\"\n",
              "       width=\"24px\">\n",
              "    <path d=\"M7,19H8.4L18.45,9,17,7.55,7,17.6ZM5,21V16.75L18.45,3.32a2,2,0,0,1,2.83,0l1.4,1.43a1.91,1.91,0,0,1,.58,1.4,1.91,1.91,0,0,1-.58,1.4L9.25,21ZM18.45,9,17,7.55Zm-12,3A5.31,5.31,0,0,0,4.9,8.1,5.31,5.31,0,0,0,1,6.5,5.31,5.31,0,0,0,4.9,4.9,5.31,5.31,0,0,0,6.5,1,5.31,5.31,0,0,0,8.1,4.9,5.31,5.31,0,0,0,12,6.5,5.46,5.46,0,0,0,6.5,12Z\"/>\n",
              "  </svg>\n",
              "    </button>\n",
              "    <script>\n",
              "      (() => {\n",
              "      const buttonEl =\n",
              "        document.querySelector('#id_d7e59a0c-cb79-4fd3-8379-a3934b08768d button.colab-df-generate');\n",
              "      buttonEl.style.display =\n",
              "        google.colab.kernel.accessAllowed ? 'block' : 'none';\n",
              "\n",
              "      buttonEl.onclick = () => {\n",
              "        google.colab.notebook.generateWithVariable('df');\n",
              "      }\n",
              "      })();\n",
              "    </script>\n",
              "  </div>\n",
              "\n",
              "    </div>\n",
              "  </div>\n"
            ],
            "application/vnd.google.colaboratory.intrinsic+json": {
              "type": "dataframe",
              "variable_name": "df",
              "summary": "{\n  \"name\": \"df\",\n  \"rows\": 225,\n  \"fields\": [\n    {\n      \"column\": \"country\",\n      \"properties\": {\n        \"dtype\": \"string\",\n        \"num_unique_values\": 225,\n        \"samples\": [\n          \"Armenia\",\n          \"South Africa\",\n          \"Lithuania\"\n        ],\n        \"semantic_type\": \"\",\n        \"description\": \"\"\n      }\n    },\n    {\n      \"column\": \"country_code\",\n      \"properties\": {\n        \"dtype\": \"string\",\n        \"num_unique_values\": 225,\n        \"samples\": [\n          \"ARM\",\n          \"RSA\",\n          \"LTU\"\n        ],\n        \"semantic_type\": \"\",\n        \"description\": \"\"\n      }\n    },\n    {\n      \"column\": \"governing_body\",\n      \"properties\": {\n        \"dtype\": \"category\",\n        \"num_unique_values\": 8,\n        \"samples\": [\n          \"UEFA\",\n          \"CONMEBOL\",\n          \"AFC\"\n        ],\n        \"semantic_type\": \"\",\n        \"description\": \"\"\n      }\n    },\n    {\n      \"column\": \"#_clubs\",\n      \"properties\": {\n        \"dtype\": \"number\",\n        \"std\": 97,\n        \"min\": 0,\n        \"max\": 1065,\n        \"num_unique_values\": 49,\n        \"samples\": [\n          48,\n          81,\n          32\n        ],\n        \"semantic_type\": \"\",\n        \"description\": \"\"\n      }\n    },\n    {\n      \"column\": \"#_players\",\n      \"properties\": {\n        \"dtype\": \"number\",\n        \"std\": 2208,\n        \"min\": 0,\n        \"max\": 18312,\n        \"num_unique_values\": 193,\n        \"samples\": [\n          279,\n          600,\n          1016\n        ],\n        \"semantic_type\": \"\",\n        \"description\": \"\"\n      }\n    },\n    {\n      \"column\": \"national_teams\",\n      \"properties\": {\n        \"dtype\": \"object\",\n        \"semantic_type\": \"\",\n        \"description\": \"\"\n      }\n    }\n  ]\n}"
            }
          },
          "metadata": {},
          "execution_count": 22
        }
      ]
    },
    {
      "cell_type": "markdown",
      "source": [
        "## Salva o dataframe em CSV"
      ],
      "metadata": {
        "id": "zkMeF_o3CQSh"
      }
    },
    {
      "cell_type": "code",
      "source": [
        "df.to_csv(f\"countries.csv\", index=False, encoding=\"utf-8\")"
      ],
      "metadata": {
        "id": "Z8qEhuslCYNq"
      },
      "execution_count": 23,
      "outputs": []
    },
    {
      "cell_type": "markdown",
      "source": [
        "## Move o arquivo processado do Google Colab para o repositório"
      ],
      "metadata": {
        "id": "3JXVDNywCmK9"
      }
    },
    {
      "cell_type": "code",
      "source": [
        "shutil.move(\"countries.csv\", \"project-ml/data/processed/countries/countries.csv\")"
      ],
      "metadata": {
        "colab": {
          "base_uri": "https://localhost:8080/",
          "height": 35
        },
        "id": "CAzoDhrsCjVc",
        "outputId": "4e41bc36-5388-4b9e-e783-693869c7bc17"
      },
      "execution_count": 24,
      "outputs": [
        {
          "output_type": "execute_result",
          "data": {
            "text/plain": [
              "'project-ml/data/processed/countries/countries.csv'"
            ],
            "application/vnd.google.colaboratory.intrinsic+json": {
              "type": "string"
            }
          },
          "metadata": {},
          "execution_count": 24
        }
      ]
    }
  ]
}