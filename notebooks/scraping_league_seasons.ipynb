{
 "cells": [
  {
   "cell_type": "markdown",
   "id": "c9253da3",
   "metadata": {},
   "source": [
    "## Libs"
   ]
  },
  {
   "cell_type": "code",
   "execution_count": 2,
   "id": "d56cb5d8",
   "metadata": {},
   "outputs": [],
   "source": [
    "import requests\n",
    "import pandas as pd\n",
    "import json\n",
    "import shutil\n",
    "from pathlib import Path"
   ]
  },
  {
   "cell_type": "markdown",
   "id": "d1090e14",
   "metadata": {},
   "source": [
    "## Gera API Key"
   ]
  },
  {
   "cell_type": "code",
   "execution_count": 3,
   "id": "36bfce1e",
   "metadata": {},
   "outputs": [
    {
     "name": "stdout",
     "output_type": "stream",
     "text": [
      "API Key: uz7fnR83nKd5Vv6Arga1VUU8tsnRadiJLedNYOs3PqQ\n"
     ]
    }
   ],
   "source": [
    "response = requests.post('https://fbrapi.com/generate_api_key')\n",
    "api_key = response.json()['api_key']\n",
    "print(\"API Key:\", api_key)"
   ]
  },
  {
   "cell_type": "markdown",
   "id": "686c4044",
   "metadata": {},
   "source": [
    "## Seleciona Endpoint"
   ]
  },
  {
   "cell_type": "code",
   "execution_count": 4,
   "id": "35dfc43f",
   "metadata": {},
   "outputs": [],
   "source": [
    "endpoint = \"league-seasons\"\n",
    "url = f\"https://fbrapi.com/{endpoint}\""
   ]
  },
  {
   "cell_type": "markdown",
   "id": "a4d0bd79",
   "metadata": {},
   "source": [
    "## Parâmetros para conseguir o id da competição\n",
    "\n",
    "- país (Escreva em inglês)\n",
    "- tipo da competição\n",
    "- nome da competição"
   ]
  },
  {
   "cell_type": "code",
   "execution_count": 90,
   "id": "9317969f",
   "metadata": {},
   "outputs": [],
   "source": [
    "country = \"Brazil\"\n",
    "competition_type = \"domestic_leagues\"\n",
    "competition_name = \"Campeonato Brasileiro Série A\"\n",
    "\n",
    "league_name = competition_name.lower().replace(\" \", \"_\")"
   ]
  },
  {
   "cell_type": "code",
   "execution_count": 91,
   "id": "1227861d",
   "metadata": {},
   "outputs": [],
   "source": [
    "url_git = \"https://raw.githubusercontent.com/pedroStelzer/project-ml/refs/heads/main/data/processed/countries/countries.csv\"\n",
    "df = pd.read_csv(url_git)\n",
    "country_code = df[df[\"country\"] == country][\"country_code\"].values[0]\n",
    "\n",
    "url_git = f\"https://raw.githubusercontent.com/pedroStelzer/project-ml/refs/heads/main/data/processed/leagues/{country_code}/{competition_type}.csv\"\n",
    "df = pd.read_csv(url_git)\n",
    "league_id = df[df[\"competition_name\"] == competition_name][\"league_id\"][0]"
   ]
  },
  {
   "cell_type": "markdown",
   "id": "3a5ac9c0",
   "metadata": {},
   "source": [
    "## Passa o parâmetro do endpoin e retorna a resposta"
   ]
  },
  {
   "cell_type": "code",
   "execution_count": 92,
   "id": "3d9a25b4",
   "metadata": {},
   "outputs": [],
   "source": [
    "params = {\n",
    "  \"league_id\": league_id\n",
    "}\n",
    "headers = {\"X-API-Key\": api_key}\n",
    "\n",
    "response = requests.get(url, params=params, headers=headers)"
   ]
  },
  {
   "cell_type": "markdown",
   "id": "7397f95f",
   "metadata": {},
   "source": [
    "## Encontra a raiz do projeto"
   ]
  },
  {
   "cell_type": "code",
   "execution_count": 93,
   "id": "0b30e881",
   "metadata": {},
   "outputs": [
    {
     "name": "stdout",
     "output_type": "stream",
     "text": [
      "Raiz do projeto: c:\\Users\\Pedro Stelzer\\OneDrive - UFPE\\Attachments\\Periodo-5\\Machine Learning and Data Science\n"
     ]
    }
   ],
   "source": [
    "raiz = Path.cwd()\n",
    "\n",
    "# Sobe até encontrar a pasta \"project-ml\"\n",
    "while(True):\n",
    "    raiz = raiz.parent\n",
    "    if(raiz.name != \"project-ml\"):\n",
    "        break\n",
    "\n",
    "print(f\"Raiz do projeto: {raiz}\")"
   ]
  },
  {
   "cell_type": "markdown",
   "id": "2264eaa7",
   "metadata": {},
   "source": [
    "## Cria a pasta do país"
   ]
  },
  {
   "cell_type": "code",
   "execution_count": 94,
   "id": "ffc72071",
   "metadata": {},
   "outputs": [
    {
     "name": "stdout",
     "output_type": "stream",
     "text": [
      "Pasta 'c:\\Users\\Pedro Stelzer\\OneDrive - UFPE\\Attachments\\Periodo-5\\Machine Learning and Data Science\\project-ml\\data\\processed\\leagues_season\\BRA' criada com sucesso!\n",
      "Pasta 'c:\\Users\\Pedro Stelzer\\OneDrive - UFPE\\Attachments\\Periodo-5\\Machine Learning and Data Science\\project-ml\\data\\raw\\leagues_season\\BRA' criada com sucesso!\n"
     ]
    }
   ],
   "source": [
    "pasta = raiz / f\"project-ml/data/processed/leagues_season/{country_code}\"\n",
    "pasta.mkdir(parents=True, exist_ok=True)\n",
    "\n",
    "print(f\"Pasta '{pasta}' criada com sucesso!\")\n",
    "\n",
    "pasta = raiz / f\"project-ml/data/raw/leagues_season/{country_code}\"\n",
    "pasta.mkdir(parents=True, exist_ok=True)\n",
    "\n",
    "print(f\"Pasta '{pasta}' criada com sucesso!\")"
   ]
  },
  {
   "cell_type": "markdown",
   "id": "5fcc015e",
   "metadata": {},
   "source": [
    "## Extrai os dados e salva em csv e json"
   ]
  },
  {
   "cell_type": "code",
   "execution_count": 95,
   "id": "df3e3eac",
   "metadata": {},
   "outputs": [],
   "source": [
    "path = raiz / f\"project-ml/data/processed/leagues_season/{country_code}/{league_name}.csv\"\n",
    "df = pd.json_normalize(response.json()[\"data\"])\n",
    "df.to_csv(f\"{path}\", index=False, encoding=\"utf-8\")"
   ]
  },
  {
   "cell_type": "code",
   "execution_count": 96,
   "id": "bd59eb69",
   "metadata": {},
   "outputs": [
    {
     "name": "stdout",
     "output_type": "stream",
     "text": [
      "Arquivo JSON salvo em: c:\\Users\\Pedro Stelzer\\OneDrive - UFPE\\Attachments\\Periodo-5\\Machine Learning and Data Science\\project-ml\\data\\raw\\leagues_season\\BRA\\campeonato_brasileiro_série_a.json\n"
     ]
    }
   ],
   "source": [
    "path = raiz / f\"project-ml/data/raw/leagues_season/{country_code}/{league_name}.json\"\n",
    "with open(path, \"w\", encoding=\"utf-8\") as f:\n",
    "    json.dump(response.json(), f, ensure_ascii=False, indent=2)\n",
    "\n",
    "print(f\"Arquivo JSON salvo em: {path}\")"
   ]
  }
 ],
 "metadata": {
  "kernelspec": {
   "display_name": "Python 3",
   "language": "python",
   "name": "python3"
  },
  "language_info": {
   "codemirror_mode": {
    "name": "ipython",
    "version": 3
   },
   "file_extension": ".py",
   "mimetype": "text/x-python",
   "name": "python",
   "nbconvert_exporter": "python",
   "pygments_lexer": "ipython3",
   "version": "3.11.7"
  }
 },
 "nbformat": 4,
 "nbformat_minor": 5
}
