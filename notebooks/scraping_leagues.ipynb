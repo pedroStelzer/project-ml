{
  "nbformat": 4,
  "nbformat_minor": 0,
  "metadata": {
    "colab": {
      "provenance": [],
      "authorship_tag": "ABX9TyOikPnU/2kp1x9IUomfdJ2h",
      "include_colab_link": true
    },
    "kernelspec": {
      "name": "python3",
      "display_name": "Python 3"
    },
    "language_info": {
      "name": "python"
    }
  },
  "cells": [
    {
      "cell_type": "markdown",
      "metadata": {
        "id": "view-in-github",
        "colab_type": "text"
      },
      "source": [
        "<a href=\"https://colab.research.google.com/github/pedroStelzer/project-ml/blob/main/notebooks/scraping_leagues.ipynb\" target=\"_parent\"><img src=\"https://colab.research.google.com/assets/colab-badge.svg\" alt=\"Open In Colab\"/></a>"
      ]
    },
    {
      "cell_type": "markdown",
      "source": [
        "## Libs"
      ],
      "metadata": {
        "id": "j8Z2pGuny_Ph"
      }
    },
    {
      "cell_type": "code",
      "execution_count": 28,
      "metadata": {
        "id": "BlkiVMIie4sO"
      },
      "outputs": [],
      "source": [
        "import requests\n",
        "import pandas as pd\n",
        "import json\n",
        "import shutil\n",
        "from pathlib import Path"
      ]
    },
    {
      "cell_type": "markdown",
      "source": [
        "## Gera API Key"
      ],
      "metadata": {
        "id": "gUHtZ_9SzFF4"
      }
    },
    {
      "cell_type": "code",
      "source": [
        "response = requests.post('https://fbrapi.com/generate_api_key')\n",
        "api_key = response.json()['api_key']\n",
        "print(\"API Key:\", api_key)"
      ],
      "metadata": {
        "colab": {
          "base_uri": "https://localhost:8080/"
        },
        "id": "MzEYcVFykfbk",
        "outputId": "5486e7ec-53bf-4718-8315-dd3090c8fc25"
      },
      "execution_count": 2,
      "outputs": [
        {
          "output_type": "stream",
          "name": "stdout",
          "text": [
            "API Key: Y24dMftak1tKMkQ4pQzy81mtLNJSWmWjYwduwG0PNR8\n"
          ]
        }
      ]
    },
    {
      "cell_type": "markdown",
      "source": [
        "## Seleciona Endpoind"
      ],
      "metadata": {
        "id": "4ArJjkh9zL0I"
      }
    },
    {
      "cell_type": "code",
      "source": [
        "endpoint = \"leagues\"\n",
        "url = f\"https://fbrapi.com/{endpoint}\""
      ],
      "metadata": {
        "id": "kE23YDlQkgIq"
      },
      "execution_count": 22,
      "outputs": []
    },
    {
      "cell_type": "markdown",
      "source": [
        "## Extrai o parâmetro vindo do repositório do github"
      ],
      "metadata": {
        "id": "IKeRJc5dzObm"
      }
    },
    {
      "cell_type": "code",
      "source": [
        "url_git = \"https://raw.githubusercontent.com/pedroStelzer/project-ml/refs/heads/main/data/processed/countries/countries.csv\"\n",
        "df = pd.read_csv(url_git)\n",
        "country_code = df[df[\"country\"] == \"England\"][\"country_code\"].values[0]"
      ],
      "metadata": {
        "id": "p-RVl8yAmR2z"
      },
      "execution_count": 23,
      "outputs": []
    },
    {
      "cell_type": "markdown",
      "source": [
        "## Passa os parâmetros e recebe a resposta"
      ],
      "metadata": {
        "id": "5mqHOYkGzRGO"
      }
    },
    {
      "cell_type": "code",
      "source": [
        "params = {\n",
        "  \"country_code\": country_code\n",
        "}\n",
        "headers = {\"X-API-Key\": api_key}\n",
        "\n",
        "response = requests.get(url, params=params, headers=headers)"
      ],
      "metadata": {
        "id": "j6bED9AdkiLy"
      },
      "execution_count": 24,
      "outputs": []
    },
    {
      "cell_type": "markdown",
      "source": [
        "## Cria a pasta do país"
      ],
      "metadata": {
        "id": "LH0bDwhRzpVI"
      }
    },
    {
      "cell_type": "code",
      "source": [
        "pasta = Path(f\"project-ml/data/processed/leagues/{country_code}\")\n",
        "pasta.mkdir(parents=True, exist_ok=True)\n",
        "\n",
        "print(f\"Pasta '{pasta}' criada com sucesso!\")"
      ],
      "metadata": {
        "colab": {
          "base_uri": "https://localhost:8080/"
        },
        "id": "C9QTLdHRzsjH",
        "outputId": "21b51b16-0ce1-478f-d402-ccd361921254"
      },
      "execution_count": 70,
      "outputs": [
        {
          "output_type": "stream",
          "name": "stdout",
          "text": [
            "Pasta 'project-ml/data/processed/leagues/ENG' criada com sucesso!\n"
          ]
        }
      ]
    },
    {
      "cell_type": "code",
      "source": [
        "pasta = Path(f\"project-ml/data/raw/leagues/{country_code}\")\n",
        "pasta.mkdir(parents=True, exist_ok=True)\n",
        "\n",
        "print(f\"Pasta '{pasta}' criada com sucesso!\")"
      ],
      "metadata": {
        "colab": {
          "base_uri": "https://localhost:8080/"
        },
        "id": "EBXYEK0jHUnv",
        "outputId": "a264d499-abb8-4152-a194-0d8ef024aacf"
      },
      "execution_count": 73,
      "outputs": [
        {
          "output_type": "stream",
          "name": "stdout",
          "text": [
            "Pasta 'project-ml/data/raw/leagues/ENG' criada com sucesso!\n"
          ]
        }
      ]
    },
    {
      "cell_type": "markdown",
      "source": [
        "## Extrai os dados de cada tipo de competição e salva no repositório em formato csv"
      ],
      "metadata": {
        "id": "y-4RNMAB1sff"
      }
    },
    {
      "cell_type": "code",
      "source": [
        "for data in response.json()[\"data\"]:\n",
        "\n",
        "  # Formatação do caminho do arquivo\n",
        "  nome_liga = data['league_type']\n",
        "  path = f\"project-ml/data/processed/leagues/{country_code}/{nome_liga}.csv\"\n",
        "\n",
        "  # Cria o dataframe e salva o arquivo nas devidas pastas\n",
        "  df = pd.json_normalize(data[\"leagues\"], sep=\"_\")\n",
        "  df.to_csv(f\"{path}\", index=False, encoding=\"utf-8\")"
      ],
      "metadata": {
        "id": "7mTfHO_5BmCu"
      },
      "execution_count": 72,
      "outputs": []
    },
    {
      "cell_type": "code",
      "source": [
        "path = f\"project-ml/data/raw/leagues/{country_code}/leagues.json\"\n",
        "with open(path, \"w\", encoding=\"utf-8\") as f:\n",
        "    json.dump(response.json(), f, ensure_ascii=False, indent=2)\n",
        "\n",
        "print(f\"Arquivo JSON salvo em: {path}\")"
      ],
      "metadata": {
        "colab": {
          "base_uri": "https://localhost:8080/"
        },
        "id": "31eyO3UaGxNH",
        "outputId": "0b3e634c-ce3c-4505-dfe2-a3b00a081319"
      },
      "execution_count": 80,
      "outputs": [
        {
          "output_type": "stream",
          "name": "stdout",
          "text": [
            "Arquivo JSON salvo em: project-ml/data/raw/leagues/ENG/leagues.json\n"
          ]
        }
      ]
    },
    {
      "cell_type": "markdown",
      "source": [
        "## Lixo (não executar)"
      ],
      "metadata": {
        "id": "1TY94fXgEUmd"
      }
    },
    {
      "cell_type": "code",
      "source": [
        "# deletar arquivos\n",
        "for data in response.json()[\"data\"]:\n",
        "    for i in range(len(data['leagues'])):\n",
        "\n",
        "        # Formatação do caminho do arquivo\n",
        "        nome_liga = data['league_type']\n",
        "        nome_arquivo = data['leagues'][i]['competition_name']\n",
        "        nome_arquivo_formatado = nome_arquivo.lower().replace(\" \", \"_\")\n",
        "        path = Path(f\"project-ml/data/processed/leagues/{nome_liga}/{nome_arquivo_formatado}.csv\")\n",
        "\n",
        "        # Se o arquivo existir, apaga\n",
        "        if path.exists():\n",
        "            path.unlink()\n",
        "            print(f\"Arquivo deletado: {path}\")\n",
        "        else:\n",
        "            print(f\"Arquivo não encontrado: {path}\")"
      ],
      "metadata": {
        "colab": {
          "base_uri": "https://localhost:8080/"
        },
        "id": "CWvTItuKEZkY",
        "outputId": "0b2d81cf-e300-4a40-d9b8-861c7ef15e9a"
      },
      "execution_count": 68,
      "outputs": [
        {
          "output_type": "stream",
          "name": "stdout",
          "text": [
            "Arquivo não encontrado: project-ml/data/processed/leagues/domestic_leagues/premier_league.csv\n",
            "Arquivo não encontrado: project-ml/data/processed/leagues/domestic_leagues/fa_women's_super_league.csv\n",
            "Arquivo não encontrado: project-ml/data/processed/leagues/domestic_leagues/efl_championship.csv\n",
            "Arquivo não encontrado: project-ml/data/processed/leagues/domestic_leagues/efl_league_one.csv\n",
            "Arquivo não encontrado: project-ml/data/processed/leagues/domestic_leagues/efl_league_two.csv\n",
            "Arquivo não encontrado: project-ml/data/processed/leagues/domestic_leagues/national_league.csv\n",
            "Arquivo não encontrado: project-ml/data/processed/leagues/domestic_cups/efl_cup.csv\n",
            "Arquivo não encontrado: project-ml/data/processed/leagues/domestic_cups/fa_community_shield.csv\n",
            "Arquivo não encontrado: project-ml/data/processed/leagues/domestic_cups/fa_cup.csv\n",
            "Arquivo não encontrado: project-ml/data/processed/leagues/international_competitions/champions_league.csv\n",
            "Arquivo não encontrado: project-ml/data/processed/leagues/international_competitions/europa_league.csv\n",
            "Arquivo não encontrado: project-ml/data/processed/leagues/international_competitions/conference_league.csv\n",
            "Arquivo não encontrado: project-ml/data/processed/leagues/national_team_competitions/wcq_uefa_m.csv\n",
            "Arquivo não encontrado: project-ml/data/processed/leagues/national_team_competitions/uefa_nations_league.csv\n",
            "Arquivo não encontrado: project-ml/data/processed/leagues/national_team_competitions/uefa_euro_qualifying.csv\n",
            "Arquivo não encontrado: project-ml/data/processed/leagues/national_team_competitions/uefa_euro.csv\n",
            "Arquivo não encontrado: project-ml/data/processed/leagues/national_team_competitions/uefa_womens_euro.csv\n",
            "Arquivo não encontrado: project-ml/data/processed/leagues/national_team_competitions/uefa_womens_euro_qualification.csv\n",
            "Arquivo não encontrado: project-ml/data/processed/leagues/national_team_competitions/womens_world_cup.csv\n",
            "Arquivo não encontrado: project-ml/data/processed/leagues/national_team_competitions/wcq_uefa_w.csv\n"
          ]
        }
      ]
    },
    {
      "cell_type": "code",
      "source": [
        "# Cria arquivos\n",
        "for data in response.json()[\"data\"]:\n",
        "  for i in range(len(data['leagues'])):\n",
        "\n",
        "    # Formatação do caminho do arquivo\n",
        "    nome_liga = data['league_type']\n",
        "    nome_arquivo = data['leagues'][i]['competition_name']\n",
        "    nome_arquivo_formatado = nome_arquivo.lower().replace(\" \", \"_\")\n",
        "    path = f\"project-ml/data/processed/leagues/{nome_liga}/{nome_arquivo_formatado}.csv\"\n",
        "\n",
        "    # Cria o dataframe e salva o arquivo nas devidas pastas\n",
        "    df = pd.json_normalize(data[\"leagues\"][i], sep=\"_\")\n",
        "    df.to_csv(f\"{path}\", index=False, encoding=\"utf-8\")"
      ],
      "metadata": {
        "colab": {
          "base_uri": "https://localhost:8080/",
          "height": 339
        },
        "id": "RqlJh8OjEg9m",
        "outputId": "3c30d883-137b-4b5b-8d51-d0a098d263a1"
      },
      "execution_count": 69,
      "outputs": [
        {
          "output_type": "error",
          "ename": "OSError",
          "evalue": "Cannot save file into a non-existent directory: 'project-ml/data/processed/leagues/domestic_leagues'",
          "traceback": [
            "\u001b[0;31m---------------------------------------------------------------------------\u001b[0m",
            "\u001b[0;31mOSError\u001b[0m                                   Traceback (most recent call last)",
            "\u001b[0;32m/tmp/ipython-input-3234755791.py\u001b[0m in \u001b[0;36m<cell line: 0>\u001b[0;34m()\u001b[0m\n\u001b[1;32m     10\u001b[0m     \u001b[0;31m# Cria o dataframe e salva o arquivo nas devidas pastas\u001b[0m\u001b[0;34m\u001b[0m\u001b[0;34m\u001b[0m\u001b[0m\n\u001b[1;32m     11\u001b[0m     \u001b[0mdf\u001b[0m \u001b[0;34m=\u001b[0m \u001b[0mpd\u001b[0m\u001b[0;34m.\u001b[0m\u001b[0mjson_normalize\u001b[0m\u001b[0;34m(\u001b[0m\u001b[0mdata\u001b[0m\u001b[0;34m[\u001b[0m\u001b[0;34m\"leagues\"\u001b[0m\u001b[0;34m]\u001b[0m\u001b[0;34m[\u001b[0m\u001b[0mi\u001b[0m\u001b[0;34m]\u001b[0m\u001b[0;34m,\u001b[0m \u001b[0msep\u001b[0m\u001b[0;34m=\u001b[0m\u001b[0;34m\"_\"\u001b[0m\u001b[0;34m)\u001b[0m\u001b[0;34m\u001b[0m\u001b[0;34m\u001b[0m\u001b[0m\n\u001b[0;32m---> 12\u001b[0;31m     \u001b[0mdf\u001b[0m\u001b[0;34m.\u001b[0m\u001b[0mto_csv\u001b[0m\u001b[0;34m(\u001b[0m\u001b[0;34mf\"{path}\"\u001b[0m\u001b[0;34m,\u001b[0m \u001b[0mindex\u001b[0m\u001b[0;34m=\u001b[0m\u001b[0;32mFalse\u001b[0m\u001b[0;34m,\u001b[0m \u001b[0mencoding\u001b[0m\u001b[0;34m=\u001b[0m\u001b[0;34m\"utf-8\"\u001b[0m\u001b[0;34m)\u001b[0m\u001b[0;34m\u001b[0m\u001b[0;34m\u001b[0m\u001b[0m\n\u001b[0m",
            "\u001b[0;32m/usr/local/lib/python3.12/dist-packages/pandas/util/_decorators.py\u001b[0m in \u001b[0;36mwrapper\u001b[0;34m(*args, **kwargs)\u001b[0m\n\u001b[1;32m    331\u001b[0m                     \u001b[0mstacklevel\u001b[0m\u001b[0;34m=\u001b[0m\u001b[0mfind_stack_level\u001b[0m\u001b[0;34m(\u001b[0m\u001b[0;34m)\u001b[0m\u001b[0;34m,\u001b[0m\u001b[0;34m\u001b[0m\u001b[0;34m\u001b[0m\u001b[0m\n\u001b[1;32m    332\u001b[0m                 )\n\u001b[0;32m--> 333\u001b[0;31m             \u001b[0;32mreturn\u001b[0m \u001b[0mfunc\u001b[0m\u001b[0;34m(\u001b[0m\u001b[0;34m*\u001b[0m\u001b[0margs\u001b[0m\u001b[0;34m,\u001b[0m \u001b[0;34m**\u001b[0m\u001b[0mkwargs\u001b[0m\u001b[0;34m)\u001b[0m\u001b[0;34m\u001b[0m\u001b[0;34m\u001b[0m\u001b[0m\n\u001b[0m\u001b[1;32m    334\u001b[0m \u001b[0;34m\u001b[0m\u001b[0m\n\u001b[1;32m    335\u001b[0m         \u001b[0;31m# error: \"Callable[[VarArg(Any), KwArg(Any)], Any]\" has no\u001b[0m\u001b[0;34m\u001b[0m\u001b[0;34m\u001b[0m\u001b[0m\n",
            "\u001b[0;32m/usr/local/lib/python3.12/dist-packages/pandas/core/generic.py\u001b[0m in \u001b[0;36mto_csv\u001b[0;34m(self, path_or_buf, sep, na_rep, float_format, columns, header, index, index_label, mode, encoding, compression, quoting, quotechar, lineterminator, chunksize, date_format, doublequote, escapechar, decimal, errors, storage_options)\u001b[0m\n\u001b[1;32m   3965\u001b[0m         )\n\u001b[1;32m   3966\u001b[0m \u001b[0;34m\u001b[0m\u001b[0m\n\u001b[0;32m-> 3967\u001b[0;31m         return DataFrameRenderer(formatter).to_csv(\n\u001b[0m\u001b[1;32m   3968\u001b[0m             \u001b[0mpath_or_buf\u001b[0m\u001b[0;34m,\u001b[0m\u001b[0;34m\u001b[0m\u001b[0;34m\u001b[0m\u001b[0m\n\u001b[1;32m   3969\u001b[0m             \u001b[0mlineterminator\u001b[0m\u001b[0;34m=\u001b[0m\u001b[0mlineterminator\u001b[0m\u001b[0;34m,\u001b[0m\u001b[0;34m\u001b[0m\u001b[0;34m\u001b[0m\u001b[0m\n",
            "\u001b[0;32m/usr/local/lib/python3.12/dist-packages/pandas/io/formats/format.py\u001b[0m in \u001b[0;36mto_csv\u001b[0;34m(self, path_or_buf, encoding, sep, columns, index_label, mode, compression, quoting, quotechar, lineterminator, chunksize, date_format, doublequote, escapechar, errors, storage_options)\u001b[0m\n\u001b[1;32m   1012\u001b[0m             \u001b[0mformatter\u001b[0m\u001b[0;34m=\u001b[0m\u001b[0mself\u001b[0m\u001b[0;34m.\u001b[0m\u001b[0mfmt\u001b[0m\u001b[0;34m,\u001b[0m\u001b[0;34m\u001b[0m\u001b[0;34m\u001b[0m\u001b[0m\n\u001b[1;32m   1013\u001b[0m         )\n\u001b[0;32m-> 1014\u001b[0;31m         \u001b[0mcsv_formatter\u001b[0m\u001b[0;34m.\u001b[0m\u001b[0msave\u001b[0m\u001b[0;34m(\u001b[0m\u001b[0;34m)\u001b[0m\u001b[0;34m\u001b[0m\u001b[0;34m\u001b[0m\u001b[0m\n\u001b[0m\u001b[1;32m   1015\u001b[0m \u001b[0;34m\u001b[0m\u001b[0m\n\u001b[1;32m   1016\u001b[0m         \u001b[0;32mif\u001b[0m \u001b[0mcreated_buffer\u001b[0m\u001b[0;34m:\u001b[0m\u001b[0;34m\u001b[0m\u001b[0;34m\u001b[0m\u001b[0m\n",
            "\u001b[0;32m/usr/local/lib/python3.12/dist-packages/pandas/io/formats/csvs.py\u001b[0m in \u001b[0;36msave\u001b[0;34m(self)\u001b[0m\n\u001b[1;32m    249\u001b[0m         \"\"\"\n\u001b[1;32m    250\u001b[0m         \u001b[0;31m# apply compression and byte/text conversion\u001b[0m\u001b[0;34m\u001b[0m\u001b[0;34m\u001b[0m\u001b[0m\n\u001b[0;32m--> 251\u001b[0;31m         with get_handle(\n\u001b[0m\u001b[1;32m    252\u001b[0m             \u001b[0mself\u001b[0m\u001b[0;34m.\u001b[0m\u001b[0mfilepath_or_buffer\u001b[0m\u001b[0;34m,\u001b[0m\u001b[0;34m\u001b[0m\u001b[0;34m\u001b[0m\u001b[0m\n\u001b[1;32m    253\u001b[0m             \u001b[0mself\u001b[0m\u001b[0;34m.\u001b[0m\u001b[0mmode\u001b[0m\u001b[0;34m,\u001b[0m\u001b[0;34m\u001b[0m\u001b[0;34m\u001b[0m\u001b[0m\n",
            "\u001b[0;32m/usr/local/lib/python3.12/dist-packages/pandas/io/common.py\u001b[0m in \u001b[0;36mget_handle\u001b[0;34m(path_or_buf, mode, encoding, compression, memory_map, is_text, errors, storage_options)\u001b[0m\n\u001b[1;32m    747\u001b[0m     \u001b[0;31m# Only for write methods\u001b[0m\u001b[0;34m\u001b[0m\u001b[0;34m\u001b[0m\u001b[0m\n\u001b[1;32m    748\u001b[0m     \u001b[0;32mif\u001b[0m \u001b[0;34m\"r\"\u001b[0m \u001b[0;32mnot\u001b[0m \u001b[0;32min\u001b[0m \u001b[0mmode\u001b[0m \u001b[0;32mand\u001b[0m \u001b[0mis_path\u001b[0m\u001b[0;34m:\u001b[0m\u001b[0;34m\u001b[0m\u001b[0;34m\u001b[0m\u001b[0m\n\u001b[0;32m--> 749\u001b[0;31m         \u001b[0mcheck_parent_directory\u001b[0m\u001b[0;34m(\u001b[0m\u001b[0mstr\u001b[0m\u001b[0;34m(\u001b[0m\u001b[0mhandle\u001b[0m\u001b[0;34m)\u001b[0m\u001b[0;34m)\u001b[0m\u001b[0;34m\u001b[0m\u001b[0;34m\u001b[0m\u001b[0m\n\u001b[0m\u001b[1;32m    750\u001b[0m \u001b[0;34m\u001b[0m\u001b[0m\n\u001b[1;32m    751\u001b[0m     \u001b[0;32mif\u001b[0m \u001b[0mcompression\u001b[0m\u001b[0;34m:\u001b[0m\u001b[0;34m\u001b[0m\u001b[0;34m\u001b[0m\u001b[0m\n",
            "\u001b[0;32m/usr/local/lib/python3.12/dist-packages/pandas/io/common.py\u001b[0m in \u001b[0;36mcheck_parent_directory\u001b[0;34m(path)\u001b[0m\n\u001b[1;32m    614\u001b[0m     \u001b[0mparent\u001b[0m \u001b[0;34m=\u001b[0m \u001b[0mPath\u001b[0m\u001b[0;34m(\u001b[0m\u001b[0mpath\u001b[0m\u001b[0;34m)\u001b[0m\u001b[0;34m.\u001b[0m\u001b[0mparent\u001b[0m\u001b[0;34m\u001b[0m\u001b[0;34m\u001b[0m\u001b[0m\n\u001b[1;32m    615\u001b[0m     \u001b[0;32mif\u001b[0m \u001b[0;32mnot\u001b[0m \u001b[0mparent\u001b[0m\u001b[0;34m.\u001b[0m\u001b[0mis_dir\u001b[0m\u001b[0;34m(\u001b[0m\u001b[0;34m)\u001b[0m\u001b[0;34m:\u001b[0m\u001b[0;34m\u001b[0m\u001b[0;34m\u001b[0m\u001b[0m\n\u001b[0;32m--> 616\u001b[0;31m         \u001b[0;32mraise\u001b[0m \u001b[0mOSError\u001b[0m\u001b[0;34m(\u001b[0m\u001b[0;34mrf\"Cannot save file into a non-existent directory: '{parent}'\"\u001b[0m\u001b[0;34m)\u001b[0m\u001b[0;34m\u001b[0m\u001b[0;34m\u001b[0m\u001b[0m\n\u001b[0m\u001b[1;32m    617\u001b[0m \u001b[0;34m\u001b[0m\u001b[0m\n\u001b[1;32m    618\u001b[0m \u001b[0;34m\u001b[0m\u001b[0m\n",
            "\u001b[0;31mOSError\u001b[0m: Cannot save file into a non-existent directory: 'project-ml/data/processed/leagues/domestic_leagues'"
          ]
        }
      ]
    },
    {
      "cell_type": "code",
      "source": [
        "# criação de pastas\n",
        "for folder in league_type:\n",
        "  # Caminho da pasta\n",
        "  pasta = Path(f\"project-ml/data/processed/leagues/{folder}\")\n",
        "\n",
        "  # Criar a pasta\n",
        "  pasta.mkdir(parents=True, exist_ok=True)\n",
        "\n",
        "  print(f\"Pasta '{pasta}' criada com sucesso!\")"
      ],
      "metadata": {
        "id": "JNl5y9qEE-Tv"
      },
      "execution_count": null,
      "outputs": []
    }
  ]
}